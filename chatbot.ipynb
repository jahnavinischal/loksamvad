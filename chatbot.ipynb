{
  "nbformat": 4,
  "nbformat_minor": 0,
  "metadata": {
    "colab": {
      "provenance": [],
      "authorship_tag": "ABX9TyPC3Ull3iDOMEqJV+O52QB8",
      "include_colab_link": true
    },
    "kernelspec": {
      "name": "python3",
      "display_name": "Python 3"
    },
    "language_info": {
      "name": "python"
    }
  },
  "cells": [
    {
      "cell_type": "markdown",
      "metadata": {
        "id": "view-in-github",
        "colab_type": "text"
      },
      "source": [
        "<a href=\"https://colab.research.google.com/github/jahnavinischal/loksamvad/blob/main/chatbot.ipynb\" target=\"_parent\"><img src=\"https://colab.research.google.com/assets/colab-badge.svg\" alt=\"Open In Colab\"/></a>"
      ]
    },
    {
      "cell_type": "code",
      "execution_count": 1,
      "metadata": {
        "colab": {
          "base_uri": "https://localhost:8080/"
        },
        "id": "PG-CA5MYITI0",
        "outputId": "53e5cdda-a258-497b-ada0-c2a15ad9b44e"
      },
      "outputs": [
        {
          "output_type": "stream",
          "name": "stderr",
          "text": [
            "[nltk_data] Downloading package punkt to /root/nltk_data...\n",
            "[nltk_data]   Unzipping tokenizers/punkt.zip.\n",
            "[nltk_data] Downloading package wordnet to /root/nltk_data...\n",
            "[nltk_data] Downloading package omw-1.4 to /root/nltk_data...\n"
          ]
        },
        {
          "output_type": "stream",
          "name": "stdout",
          "text": [
            "Hello! I am GARA, I am here to assist you. To end the convo, type bye.\n",
            "hi\n",
            "Bot: Hello\n",
            "wassup\n",
            "Bot: I am good, how can I help you?\n",
            "what is the time limit for redressal of a grievance?\n",
            "Bot:   the time limit for redress of grievance is:\n",
            "thirty (30) days.\n",
            "Which ministry is responsible for environmental protection and combating pollution?\n",
            "Bot:   ministry: environment\n",
            "grievances:\n",
            "- failure to address environmental pollution and degradation.\n",
            "ok\n",
            "Bot: Anything else you want to know?\n",
            "no\n",
            "Bot: Okay\n",
            "bye\n",
            "Bot: Goodbye!\n"
          ]
        }
      ],
      "source": [
        "import numpy as np\n",
        "import nltk\n",
        "import string\n",
        "import random\n",
        "\n",
        "f = open('data.txt', 'r', errors='ignore')\n",
        "\n",
        "raw_doc = f.read()\n",
        "raw_doc = raw_doc.lower()\n",
        "nltk.download('punkt')\n",
        "nltk.download('wordnet')\n",
        "nltk.download('omw-1.4')\n",
        "sentence_tokens = nltk.sent_tokenize(raw_doc)\n",
        "word_tokens = nltk.word_tokenize(raw_doc)\n",
        "\n",
        "lemmer = nltk.stem.WordNetLemmatizer()\n",
        "\n",
        "\n",
        "def LemTokens(tokens):\n",
        "    return [lemmer.lemmatize(token) for token in tokens]\n",
        "\n",
        "\n",
        "remove_punc_dict = dict((ord(punct), None) for punct in string.punctuation)\n",
        "\n",
        "\n",
        "def LemNormalize(text):\n",
        "    return LemTokens(nltk.word_tokenize(text.lower().translate(remove_punc_dict)))\n",
        "\n",
        "\n",
        "# Define different greetings and responses\n",
        "greet_responses = {\n",
        "    'hello': 'Hey',\n",
        "    'hi': 'Hello',\n",
        "    'namaste': 'Namaste, aap kaise hai?',\n",
        "    'how are you?': 'I am fine, how about you?',\n",
        "    'whats up': 'Everything is great?',\n",
        "    'wassup': 'I am good, how can I help you?',\n",
        "    'i am fine': 'how can i help you?'\n",
        "}\n",
        "\n",
        "\n",
        "from sklearn.feature_extraction.text import TfidfVectorizer\n",
        "\n",
        "vectorizer = TfidfVectorizer(token_pattern=r'\\b\\w+\\b', tokenizer=None)\n",
        "\n",
        "import warnings\n",
        "\n",
        "warnings.filterwarnings(\"ignore\", category=UserWarning, module=\"sklearn\")\n",
        "\n",
        "from sklearn.metrics.pairwise import cosine_similarity\n",
        "\n",
        "\n",
        "def response(user_response):\n",
        "    robo1_response = ' '\n",
        "    TfidfVec = TfidfVectorizer(tokenizer=LemNormalize, stop_words='english')\n",
        "    tfidf = TfidfVec.fit_transform(sentence_tokens)\n",
        "    vals = cosine_similarity(tfidf[-1], tfidf)\n",
        "    idx = vals.argsort()[0][-2]\n",
        "    flat = vals.flatten()\n",
        "    flat.sort()\n",
        "    req_tfidf = flat[-2]\n",
        "    if (req_tfidf == 0):\n",
        "        robo1_response = robo1_response + 'I am Sorry. I am unable to understand you!'\n",
        "        return robo1_response\n",
        "    else:\n",
        "        robo1_response = robo1_response + sentence_tokens[idx]\n",
        "        return robo1_response\n",
        "\n",
        "\n",
        "flag = True\n",
        "print('Hello! I am GARA, I am here to assist you. To end the convo, type bye.')\n",
        "while (flag == True):\n",
        "    user_response = input()\n",
        "    user_response = user_response.lower()\n",
        "    if (user_response != 'bye'):\n",
        "        if (user_response == 'thanks' or user_response == 'thank you'):\n",
        "            flag = False\n",
        "            print('Bot: You are welcome')\n",
        "        elif (user_response == 'ok' or user_response == 'okay'):\n",
        "            print('Bot: Anything else you want to know?')\n",
        "        elif (user_response == 'no' or user_response == 'nope'):\n",
        "            print('Bot: Okay')\n",
        "        else:\n",
        "            # Check for greetings and respond accordingly\n",
        "            if user_response in greet_responses:\n",
        "                print('Bot:', greet_responses[user_response])\n",
        "            else:\n",
        "                sentence_tokens.append(user_response)\n",
        "                word_tokens = word_tokens + nltk.word_tokenize(user_response)\n",
        "                final_words = list(set(word_tokens))\n",
        "                print('Bot: ', end=\" \")\n",
        "                print(response(user_response))\n",
        "                sentence_tokens.remove(user_response)\n",
        "    else:\n",
        "        flag = False\n",
        "        print('Bot: Goodbye!')\n"
      ]
    }
  ]
}